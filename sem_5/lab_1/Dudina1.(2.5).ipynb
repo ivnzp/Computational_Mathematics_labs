{
 "cells": [
  {
   "cell_type": "code",
   "execution_count": 1,
   "id": "4f9dfeef",
   "metadata": {},
   "outputs": [
    {
     "name": "stdout",
     "output_type": "stream",
     "text": [
      "4.416538999157251e-09 1.0081472103014313\n",
      "9.392122e+10 -1.486883e+08 6.743427e+08 -7.651960e+08 -8.086184e+01 3.667310e+02 -4.148067e+02\n"
     ]
    }
   ],
   "source": [
    "# лаба 1 вариант 2.5\n",
    "import math as m\n",
    "\n",
    "gamma0 = 7/5\n",
    "rho0 = 10e-5\n",
    "P0 = 3.848*10e3\n",
    "U0 = 0\n",
    "gamma3 = 5/3\n",
    "C3 = 1.31478*10e4\n",
    "U3= 5*10e4\n",
    "P3 = 1.17928*10e9\n",
    "\n",
    "# gamma0 = 5/3\n",
    "# rho0 = 1e-5\n",
    "# P0 = 3.848e3\n",
    "# U0 = 0\n",
    "\n",
    "# gamma3 = 7/5\n",
    "# C3 = 2.53248e4\n",
    "# U3 = 0\n",
    "# P3 = 3.04e9\n",
    "\n",
    "rho3 = gamma3*P3/(C3**2)\n",
    "\n",
    "a0 = (gamma0+1)/(gamma0-1)\n",
    "n = 2*gamma3/(gamma3-1)\n",
    "mu = (U3-U0)*m.sqrt((gamma0-1)*rho0/(2*P0))\n",
    "nu = 2/(gamma3-1)*m.sqrt((gamma0-1)*gamma3*P3*rho0/(2*P0*rho3))\n",
    "x= P3/P0\n",
    "# z = (P1/P3)**(1/n)\n",
    "\n",
    "# x**2*z**(2*n)-a0*nu**2*x*z**(n+2)+2*a0*nu*(mu+nu)*x*z**(n+1)-(2+(mu+nu)**2*a0)*x*z**n-nu**2*z**2+2*nu*(mu+nu)*z-(mu+nu)**2+1=0\n",
    "\n",
    "A = max(abs(a0*nu**2*x), abs(2*a0*nu*(mu+nu)*x), abs((2+(mu+nu)**2*a0)*x), abs(nu**2), abs(2*nu*(mu+nu)), abs(-(mu+nu)**2+1))\n",
    "B = max(abs(x**2), abs(a0*nu**2*x), abs(2*a0*nu*(mu+nu)*x), abs((2+(mu+nu)**2*a0)*x), abs(nu**2), abs(2*nu*(mu+nu)))\n",
    "\n",
    "min_z = abs(-(mu+nu)**2+1)/(abs(-(mu+nu)**2+1)+B)\n",
    "max_z = 1+(A/abs(x**2))\n",
    "\n",
    "с0 = (x**2)\n",
    "с1 = (-a0*nu**2*x)\n",
    "с2 = (2*a0*nu*(mu+nu)*x)\n",
    "с3 = (-(2+(mu+nu)**2*a0)*x)\n",
    "с4 = (-nu**2)\n",
    "с5 = (2*nu*(mu+nu))\n",
    "с6 = (-(mu+nu)**2+1)\n",
    "\n",
    "\n",
    "print(min_z, max_z)\n",
    "print(f\"{с0:.6e}\", f\"{с1:.6e}\", f\"{с2:.6e}\", f\"{с3:.6e}\", f\"{с4:.6e}\", f\"{с5:.6e}\", f\"{с6:.6e}\")\n",
    "# print(n)"
   ]
  },
  {
   "cell_type": "code",
   "execution_count": 2,
   "id": "00fd12f0",
   "metadata": {},
   "outputs": [
    {
     "name": "stdout",
     "output_type": "stream",
     "text": [
      "0.3568560061300267 0.35685634217920736\n"
     ]
    }
   ],
   "source": [
    "def func(z):\n",
    "    return x**2*z**(2*n)-a0*nu**2*x*z**(n+2)+2*a0*nu*(mu+nu)*x*z**(n+1)-(2+(mu+nu)**2*a0)*x*z**n-nu**2*z**2+2*nu*(mu+nu)*z-(mu+nu)**2+1\n",
    "import numpy as np\n",
    "\n",
    "z_mas = np.linspace(min_z, max_z, 3000000)\n",
    "f_mas = [func(z) for z in z_mas]\n",
    "\n",
    "min_z0 = np.argmin(np.abs(f_mas))\n",
    "min_f0 = func(min_z0)\n",
    "\n",
    "\n",
    "for i in range(len(z_mas)-1):\n",
    "    if (func(z_mas[i])>0 and func(z_mas[i+1])<0) or (func(z_mas[i])<0 and func(z_mas[i+1])>0):\n",
    "        print(z_mas[i], z_mas[i+1])\n",
    "        z_mas[i] = min_z\n",
    "        z_mas[i+1] = max_z\n",
    "\n"
   ]
  },
  {
   "cell_type": "code",
   "execution_count": 3,
   "id": "94738fb6",
   "metadata": {},
   "outputs": [
    {
     "name": "stdout",
     "output_type": "stream",
     "text": [
      "P1 = 1.228108e+10\n",
      "U1 = 4.967865e+05\n",
      "rho1 = 5.999890e-04\n",
      "rho2 = 1.165015e+00\n",
      "D0 (ударная) = 1.213973e+07\n"
     ]
    }
   ],
   "source": [
    "Z = z_mas[min_z0]  \n",
    "\n",
    "# Давление в областях 1 и 2\n",
    "P1 = P3 * Z**n #cnh 18\n",
    "P2 = P1\n",
    "#Скорость U1 = U2 \n",
    "C2 = C3 * Z**((gamma3 - 1) / 2)\n",
    "# U1 = U3 + (2 * C3) / (gamma3 - 1) * (1 - Z**((gamma3 - 1) / 2))\n",
    "U1 = U3 + (2 * C3) / (gamma3 - 1) * (1 - Z) # 25-26-27-28\n",
    "#Плотность за ударной волной\n",
    "rho1 = rho0 * ((gamma0 + 1) * P1 + (gamma0 - 1) * P0) / ((gamma0 - 1) * P1 + (gamma0 + 1) * P0) # 12\n",
    "# Плотность в волне разрежения\n",
    "rho2 = rho3 * Z**(2 / (gamma3 - 1))\n",
    "#Скорости фронтов\n",
    "D0 = U0 + m.sqrt((P1 - P0) / (rho0 * (1 - rho0/rho1))) #3\n",
    "\n",
    "print(f\"P1 = {P1:.6e}\")\n",
    "print(f\"U1 = {U1:.6e}\")\n",
    "print(f\"rho1 = {rho1:.6e}\")\n",
    "print(f\"rho2 = {rho2:.6e}\")\n",
    "print(f\"D0 (ударная) = {D0:.6e}\")"
   ]
  }
 ],
 "metadata": {
  "kernelspec": {
   "display_name": "Python 3",
   "language": "python",
   "name": "python3"
  },
  "language_info": {
   "codemirror_mode": {
    "name": "ipython",
    "version": 3
   },
   "file_extension": ".py",
   "mimetype": "text/x-python",
   "name": "python",
   "nbconvert_exporter": "python",
   "pygments_lexer": "ipython3",
   "version": "3.12.10"
  }
 },
 "nbformat": 4,
 "nbformat_minor": 5
}
