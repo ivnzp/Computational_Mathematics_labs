{
 "cells": [
  {
   "cell_type": "markdown",
   "id": "fab20c0d",
   "metadata": {},
   "source": [
    "# Лабораторная работа №2\n",
    "### Интерполяция. Сплайны\n"
   ]
  },
  {
   "cell_type": "code",
   "execution_count": 48,
   "id": "cf4f0464",
   "metadata": {},
   "outputs": [],
   "source": [
    "import numpy as np\n",
    "import matplotlib.pyplot as plt"
   ]
  },
  {
   "cell_type": "markdown",
   "id": "763b4267",
   "metadata": {},
   "source": [
    "Запишем узлы интерполяции:"
   ]
  },
  {
   "cell_type": "code",
   "execution_count": 49,
   "id": "466de676",
   "metadata": {},
   "outputs": [],
   "source": [
    "nodes_x=np.array([1.22173, 1.57080, 1.91986, 2.26893, 2.61799])\n",
    "nodes_y=np.array([0.01849, 0.09802, 0.40638, 1.38085, 4.01768])"
   ]
  },
  {
   "cell_type": "markdown",
   "id": "4fd994f6",
   "metadata": {},
   "source": [
    "Функция для получения интерполяционного многочлена в форме Ньютона"
   ]
  },
  {
   "cell_type": "code",
   "execution_count": 50,
   "id": "c062ba21",
   "metadata": {},
   "outputs": [],
   "source": [
    "def Newton (nodes_x, nodes_y, array):\n",
    "    coefficients = np.array([nodes_y[0]])\n",
    "    difference = np.array(nodes_y)\n",
    "    new_difference = np.zeros_like(nodes_y)\n",
    "    shape=nodes_x.size\n",
    "\n",
    "    for i in range (1,shape):\n",
    "        new_difference = np.zeros(shape - i)\n",
    "        for k in range (shape-i):\n",
    "            new_difference[k] = (difference[k+1]-difference[k])/(nodes_x[k+i]-nodes_x[k])\n",
    "        coefficients=np.append(coefficients,new_difference[0])\n",
    "        difference = new_difference.copy()\n",
    "    \n",
    "    y_array=np.zeros_like(array)\n",
    "\n",
    "    for i in range(array.size):\n",
    "        for k in range (coefficients.size):\n",
    "            factor = 1\n",
    "            for l in range (k):\n",
    "                factor = factor * (array[i]-nodes_x[l])\n",
    "            y_array[i] += coefficients[k] * factor\n",
    "\n",
    "    return coefficients,y_array\n",
    "\n",
    "def f (x,coefficients,nodes_x):\n",
    "    result = 0\n",
    "    for k in range (coefficients.size):\n",
    "        factor = 1\n",
    "        for l in range (k):\n",
    "            factor = factor * (x-nodes_x[l])\n",
    "        result += coefficients[k] * factor    \n",
    "    return result\n",
    "\n"
   ]
  },
  {
   "cell_type": "markdown",
   "id": "fccb0ee3",
   "metadata": {},
   "source": [
    "Интерполяция в форме Ньютона"
   ]
  },
  {
   "cell_type": "code",
   "execution_count": 51,
   "id": "c9a9435a",
   "metadata": {},
   "outputs": [
    {
     "name": "stdout",
     "output_type": "stream",
     "text": [
      "Полученные коэффициенты: [0.01849    0.22783396 0.9390331  1.71341911 1.56902697]\n",
      "Для узла x = 1.22173 - y=0.01849. Отличие от условия = 0.0\n",
      "Для узла x = 1.5708 - y=0.09802. Отличие от условия = 0.0\n",
      "Для узла x = 1.91986 - y=0.40637999999999996. Отличие от условия = -5.551115123125783e-17\n",
      "Для узла x = 2.26893 - y=1.38085. Отличие от условия = 0.0\n",
      "Для узла x = 2.61799 - y=4.017680000000001. Отличие от условия = 8.881784197001252e-16\n"
     ]
    },
    {
     "data": {
      "image/png": "[encoded data removed]",
      "text/plain": [
       "<Figure size 640x480 with 1 Axes>"
      ]
     },
     "metadata": {},
     "output_type": "display_data"
    }
   ],
   "source": [
    "x=np.linspace(np.min(nodes_x),np.max(nodes_x),10000)\n",
    "coef, y = Newton(nodes_x,nodes_y,x)\n",
    "print(f\"Полученные коэффициенты: {coef}\")\n",
    "\n",
    "for i in range (nodes_x.size):\n",
    "    value = f(nodes_x[i],coef,nodes_x)\n",
    "    print(f\"Для узла x = {nodes_x[i]} - y={value}. Отличие от условия = {value-nodes_y[i]}\")\n",
    "\n",
    "plt.plot(x,y)\n",
    "plt.scatter(nodes_x,nodes_y)\n",
    "plt.show()"
   ]
  },
  {
   "cell_type": "markdown",
   "id": "d16afc09",
   "metadata": {},
   "source": [
    "#### Интерполяция сплайном:\n",
    "Напишем функцию для получения коэффициентов сплайна"
   ]
  },
  {
   "cell_type": "code",
   "execution_count": 52,
   "id": "dd792943",
   "metadata": {},
   "outputs": [],
   "source": [
    "def diff_point(point,step,f,coefficients,nodes_x):\n",
    "    value = (f(point+step,coefficients,nodes_x)-f(point-step,coefficients,nodes_x))/(2*step)\n",
    "    return value"
   ]
  },
  {
   "cell_type": "code",
   "execution_count": 53,
   "id": "a30da0db",
   "metadata": {},
   "outputs": [],
   "source": [
    "def new_spline(nodes_x,f,coefficients,diff_point):\n",
    "    data = np.zeros((nodes_x.shape[0]-1,4))\n",
    "    for i in range (nodes_x.shape[0]-1):\n",
    "        Pi = diff_point(nodes_x[i],1e-6,f,coef,nodes_x)\n",
    "        Pi1 = diff_point(nodes_x[i+1],1e-6,f,coef,nodes_x) \n",
    "        xi = nodes_x[i]\n",
    "        xi1 = nodes_x[i+1]\n",
    "        fi = f(xi,coef,nodes_x)\n",
    "        fi1 = f(xi1,coef,nodes_x)\n",
    "        data[i][3] = (Pi1 * (xi1 - xi) - 2 * (fi1 - fi) + Pi * (xi1-xi)) / (xi1-xi)**3\n",
    "        data[i][2] = (-1 * Pi1 * (xi1 - xi) * (xi1 + 2 * xi) + 3 * (fi1 - fi) * (xi1 + xi) - Pi * (xi1 - xi) * (xi + 2* xi1)) / (xi1-xi)**3\n",
    "        data[i][1] = (Pi1 * xi * (2*xi1 + xi) * (xi1 - xi) - 6 * (fi1 - fi) * xi * xi1 + Pi * xi1 * (xi1 + 2*xi) * (xi1 - xi)) / (xi1-xi)**3\n",
    "        data[i][0] = (-1 * Pi1 * xi * xi * xi1 * (xi1 - xi) + fi1 * xi * xi * (3 * xi1 - xi) + fi * xi1 * xi1 * (xi1 - 3*xi) - Pi * xi * xi1 * xi1 * (xi1-xi)) / (xi1-xi)**3\n",
    "    return data\n"
   ]
  },
  {
   "cell_type": "markdown",
   "id": "c90f7ddb",
   "metadata": {},
   "source": [
    "Для нашей задачи сами коэффициенты:"
   ]
  },
  {
   "cell_type": "code",
   "execution_count": 54,
   "id": "bbabaa26",
   "metadata": {},
   "outputs": [
    {
     "name": "stdout",
     "output_type": "stream",
     "text": [
      "Для отрезка [1.22173; 1.5708]: [ 2.56720145 -4.80198975  2.80613976 -0.47735049]\n",
      "Для отрезка [1.5708; 1.91986]: [-5.92378212 11.41457363 -7.51763194  1.71341911]\n",
      "Для отрезка [1.91986; 2.26893]: [-21.4264527   35.63924175 -20.1355557    3.90418871]\n",
      "Для отрезка [2.26893; 2.61799]: [-47.01579034  69.47372288 -35.04765345   6.09495833]\n"
     ]
    }
   ],
   "source": [
    "data = new_spline(nodes_x,f,coef,diff_point)\n",
    "for i in range (nodes_x.shape[0]-1):\n",
    "    print(f\"Для отрезка [{nodes_x[i]}; {nodes_x[i+1]}]: {data[i]}\")"
   ]
  },
  {
   "cell_type": "markdown",
   "id": "300fdb06",
   "metadata": {},
   "source": [
    "Теперь введем функцию, которая будет выводить значение интерполянта в заданной точке "
   ]
  },
  {
   "cell_type": "code",
   "execution_count": 55,
   "id": "af9bf8ab",
   "metadata": {},
   "outputs": [],
   "source": [
    "def spline_point(x_nodes,point,data):\n",
    "    for i in range(x_nodes.shape[0]-1):\n",
    "        if (point >= x_nodes[i] and point <= x_nodes[i+1]):\n",
    "            value = data[i][0] + data[i][1] * point + data[i][2] * point**2 + data[i][3] * point**3\n",
    "            return value"
   ]
  },
  {
   "cell_type": "markdown",
   "id": "5fdd87a3",
   "metadata": {},
   "source": [
    "Наконец, визуализируем полученную интерполяцию:"
   ]
  },
  {
   "cell_type": "code",
   "execution_count": 59,
   "id": "fafced52",
   "metadata": {},
   "outputs": [
    {
     "data": {
      "image/png": "[encoded data removed]",
      "text/plain": [
       "<Figure size 640x480 with 1 Axes>"
      ]
     },
     "metadata": {},
     "output_type": "display_data"
    }
   ],
   "source": [
    "x=np.linspace(np.min(nodes_x),np.max(nodes_y),100000)\n",
    "y=np.zeros_like(x)\n",
    "for i in range (x.size):\n",
    "    y[i] = spline_point(nodes_x,x[i],data)\n",
    "    \n",
    "plt.plot(x,y)\n",
    "plt.scatter(nodes_x,nodes_y)\n",
    "plt.show()"
   ]
  },
  {
   "cell_type": "markdown",
   "id": "73c5757f",
   "metadata": {},
   "source": [
    "Посчитаем ошибку в узлах:"
   ]
  },
  {
   "cell_type": "code",
   "execution_count": 58,
   "id": "bb8cb91c",
   "metadata": {},
   "outputs": [
    {
     "name": "stdout",
     "output_type": "stream",
     "text": [
      "Для узла x = 1.22173 - y=0.0184899999999959. Отличие от условия = -4.100886297209172e-15\n",
      "Для узла x = 1.5708 - y=0.09801999999999578. Отличие от условия = -4.218847493575595e-15\n",
      "Для узла x = 1.91986 - y=0.4063800000000306. Отличие от условия = 3.058664432842306e-14\n",
      "Для узла x = 2.26893 - y=1.3808500000003079. Отличие от условия = 3.079758670310184e-13\n",
      "Для узла x = 2.61799 - y=4.01767999999926. Отличие от условия = -7.407408020299044e-13\n"
     ]
    }
   ],
   "source": [
    "for i in range (nodes_x.shape[0]):\n",
    "    value=spline_point(nodes_x,nodes_x[i],data)\n",
    "    print(f\"Для узла x = {nodes_x[i]} - y={value}. Отличие от условия = {value-nodes_y[i]}\")    "
   ]
  }
 ],
 "metadata": {
  "kernelspec": {
   "display_name": "Python 3",
   "language": "python",
   "name": "python3"
  },
  "language_info": {
   "codemirror_mode": {
    "name": "ipython",
    "version": 3
   },
   "file_extension": ".py",
   "mimetype": "text/x-python",
   "name": "python",
   "nbconvert_exporter": "python",
   "pygments_lexer": "ipython3",
   "version": "3.13.3"
  }
 },
 "nbformat": 4,
 "nbformat_minor": 5
}
